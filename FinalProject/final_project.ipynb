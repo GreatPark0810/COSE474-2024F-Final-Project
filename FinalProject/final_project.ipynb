{
 "cells": [
  {
   "cell_type": "code",
   "id": "initial_id",
   "metadata": {
    "collapsed": true,
    "ExecuteTime": {
     "end_time": "2024-12-02T10:16:45.737146Z",
     "start_time": "2024-12-02T10:16:43.203664Z"
    }
   },
   "source": [
    "import objaverse\n",
    "import random\n",
    "\n",
    "uids = objaverse.load_uids() # each object has a unique ID (uid), then load it\n",
    "print(\"all of objects length :\", len(uids))\n",
    "\n",
    "random.seed(42)\n",
    "lvis_annotations = objaverse.load_lvis_annotations()\n",
    "\n",
    "num_of_objects = 50\n",
    "filtered_lvis_annotations = {key: value for key, value in lvis_annotations.items() if len(value) >= num_of_objects}\n",
    "print(f\"the number of classes having items more than {num_of_objects} : {len(filtered_lvis_annotations)}\")"
   ],
   "outputs": [
    {
     "name": "stdout",
     "output_type": "stream",
     "text": [
      "all of objects length : 798759\n",
      "the number of classes having items more than 50 : 319\n"
     ]
    }
   ],
   "execution_count": 7
  },
  {
   "metadata": {
    "jupyter": {
     "is_executing": true
    },
    "ExecuteTime": {
     "start_time": "2024-12-02T10:16:48.398878Z"
    }
   },
   "cell_type": "code",
   "source": [
    "import ssl\n",
    "ssl._create_default_https_context = ssl._create_unverified_context\n",
    "\n",
    "my_datasets = {}\n",
    "count = 1\n",
    "for key, value in filtered_lvis_annotations.items():\n",
    "    sampled_uids = random.sample(value, num_of_objects)\n",
    "    my_datasets[key] = sampled_uids\n",
    "    \n",
    "    print(f\"\\nDownloading {key}... ({count} / {len(filtered_lvis_annotations)})\")\n",
    "    objaverse.load_objects(sampled_uids, 1)\n",
    "    print(f\"Downloading {key} done.\\n\")\n",
    "    count += 1\n",
    "\n",
    "print(\"All downloading are done.\")"
   ],
   "id": "2338fce0ffeccaa7",
   "outputs": [
    {
     "name": "stdout",
     "output_type": "stream",
     "text": [
      "\n",
      "Downloading Christmas_tree... (1 / 319)\n",
      "Downloaded 1 / 50 objects\n",
      "Downloaded 2 / 50 objects\n",
      "Downloaded 3 / 50 objects\n",
      "Downloaded 4 / 50 objects\n",
      "Downloaded 5 / 50 objects\n",
      "Downloaded 6 / 50 objects\n",
      "Downloaded 7 / 50 objects\n",
      "Downloaded 8 / 50 objects\n",
      "Downloaded 9 / 50 objects\n",
      "Downloaded 10 / 50 objects\n",
      "Downloaded 11 / 50 objects\n",
      "Downloaded 12 / 50 objects\n",
      "Downloaded 13 / 50 objects\n",
      "Downloaded 14 / 50 objects\n",
      "Downloaded 15 / 50 objects\n",
      "Downloaded 16 / 50 objects\n",
      "Downloaded 17 / 50 objects\n",
      "Downloaded 18 / 50 objects\n",
      "Downloaded 19 / 50 objects\n",
      "Downloaded 20 / 50 objects\n",
      "Downloaded 21 / 50 objects\n",
      "Downloaded 22 / 50 objects\n",
      "Downloaded 23 / 50 objects\n",
      "Downloaded 24 / 50 objects\n",
      "Downloaded 25 / 50 objects\n",
      "Downloaded 26 / 50 objects\n",
      "Downloaded 27 / 50 objects\n",
      "Downloaded 28 / 50 objects\n",
      "Downloaded 29 / 50 objects\n",
      "Downloaded 30 / 50 objects\n",
      "Downloaded 31 / 50 objects\n",
      "Downloaded 32 / 50 objects\n",
      "Downloaded 33 / 50 objects\n",
      "Downloaded 34 / 50 objects\n",
      "Downloaded 35 / 50 objects\n",
      "Downloaded 36 / 50 objects\n",
      "Downloaded 37 / 50 objects\n",
      "Downloaded 38 / 50 objects\n",
      "Downloaded 39 / 50 objects\n",
      "Downloaded 40 / 50 objects\n",
      "Downloaded 41 / 50 objects\n",
      "Downloaded 42 / 50 objects\n",
      "Downloaded 43 / 50 objects\n",
      "Downloaded 44 / 50 objects\n",
      "Downloaded 45 / 50 objects\n",
      "Downloaded 46 / 50 objects\n",
      "Downloaded 47 / 50 objects\n",
      "Downloaded 48 / 50 objects\n",
      "Downloaded 49 / 50 objects\n",
      "Downloaded 50 / 50 objects\n",
      "Downloading Christmas_tree done.\n",
      "\n",
      "\n",
      "Downloading Lego... (2 / 319)\n"
     ]
    }
   ],
   "execution_count": null
  },
  {
   "metadata": {},
   "cell_type": "code",
   "outputs": [],
   "execution_count": null,
   "source": "",
   "id": "596aed2501dedb84"
  }
 ],
 "metadata": {
  "kernelspec": {
   "display_name": "Python 3",
   "language": "python",
   "name": "python3"
  },
  "language_info": {
   "codemirror_mode": {
    "name": "ipython",
    "version": 2
   },
   "file_extension": ".py",
   "mimetype": "text/x-python",
   "name": "python",
   "nbconvert_exporter": "python",
   "pygments_lexer": "ipython2",
   "version": "2.7.6"
  }
 },
 "nbformat": 4,
 "nbformat_minor": 5
}
